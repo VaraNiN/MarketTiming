{
 "cells": [
  {
   "cell_type": "code",
   "execution_count": 17,
   "metadata": {},
   "outputs": [
    {
     "name": "stdout",
     "output_type": "stream",
     "text": [
      "Unmodified gains are 649.33%\n",
      "Modified gains are 694.20%\n"
     ]
    }
   ],
   "source": [
    "import numpy as np\n",
    "\n",
    "exclude_num = 10 #number of best/worst days to exclude\n",
    "exclude_best = True #Should best days be excluded?\n",
    "exclude_worst = True #Should worst days be excluded?\n",
    "\n",
    "# Data Source: https://www.macrotrends.net/2324/sp-500-historical-chart-data\n",
    "start = 825.99 #Jan 1990\n",
    "end =  5363.36 #11th April 2025\n",
    "\n",
    "# Data Source: https://youtu.be/nSu8i9gu6TA?si=Y1-a8YJ2DzQEYPHm&t=106\n",
    "best_days = [(11.6, \"2008-10-13\"),\n",
    "             (10.8, \"2008-10-28\"),\n",
    "             (9.5, \"2025-04-09\"),\n",
    "             (9.4, \"2020-03-24\"),\n",
    "             (9.3, \"2020-03-13\"),\n",
    "             (7.1, \"2009-03-23\"),\n",
    "             (7.0, \"2020-04-06\"),\n",
    "             (6.9, \"2008-11-13\"),\n",
    "             (6.5, \"2008-11-24\"),\n",
    "             (6.4, \"2009-03-10\"),\n",
    "             (6.3, \"2008-11-21\"),\n",
    "             (6.2, \"2020-03-26\"),\n",
    "             (6.0, \"2020-03-17\"),\n",
    "             (5.7, \"2002-07-24\"),\n",
    "             (5.6, \"2022-11-10\"),\n",
    "             (5.4, \"2008-09-30\"),\n",
    "             (5.4, \"2002-07-29\"),\n",
    "             (5.1, \"2008-12-16\"),\n",
    "             (5.1, \"1997-10-28\"),\n",
    "             (5.1, \"1998-09-08\")]\n",
    "\n",
    "worst_days = [(-12.0, \"2020-03-16\"),\n",
    "              (-9.5, \"2020-03-12\"),\n",
    "              (-9.0, \"2008-10-15\"),\n",
    "              (-8.9, \"2008-12-01\"),\n",
    "              (-8.8, \"2020-09-29\"),\n",
    "              (-7.6, \"2008-10-09\"),\n",
    "              (-7.6, \"2020-03-09\"),\n",
    "              (-6.9, \"1997-10-27\"),\n",
    "              (-6.8, \"1998-08-31\"),\n",
    "              (-6.7, \"2008-11-20\"),\n",
    "              (-6.6, \"2011-08-08\"),\n",
    "              (-6.1, \"2008-11-19\"),\n",
    "              (-6.1, \"2008-10-22\"),\n",
    "              (-6.0, \"2025-04-04\"),\n",
    "              (-5.9, \"2000-06-11\"),\n",
    "              (-5.8, \"2000-04-14\"),\n",
    "              (-5.7, \"2008-10-07\"),\n",
    "              (-5.3, \"2009-01-20\"),\n",
    "              (-5.2, \"2008-11-05\"),\n",
    "              (-5.2, \"2020-03-18\")]\n",
    "\n",
    "base_mult = 100 * end / start\n",
    "mod_mult = base_mult\n",
    "\n",
    "for i in range(exclude_num):\n",
    "    if exclude_best:\n",
    "        mod_mult *= 1/(1+best_days[i][0]/100)\n",
    "    if exclude_worst:\n",
    "        mod_mult *= 1/(1+worst_days[i][0]/100)\n",
    "        \n",
    "print(\"Unmodified gains are %.2f%%\" %(base_mult))\n",
    "print(\"Modified gains are %.2f%%\" %(mod_mult))"
   ]
  }
 ],
 "metadata": {
  "kernelspec": {
   "display_name": "Python 3",
   "language": "python",
   "name": "python3"
  },
  "language_info": {
   "codemirror_mode": {
    "name": "ipython",
    "version": 3
   },
   "file_extension": ".py",
   "mimetype": "text/x-python",
   "name": "python",
   "nbconvert_exporter": "python",
   "pygments_lexer": "ipython3",
   "version": "3.7.0"
  }
 },
 "nbformat": 4,
 "nbformat_minor": 2
}
